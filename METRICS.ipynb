{
  "nbformat": 4,
  "nbformat_minor": 0,
  "metadata": {
    "colab": {
      "private_outputs": true,
      "provenance": [],
      "mount_file_id": "1qoruBKjxW5zzhSjAxkGkBa1XXMKdUK1g",
      "authorship_tag": "ABX9TyNQPxnGyWoDDg4zRPbexb58",
      "include_colab_link": true
    },
    "kernelspec": {
      "name": "python3",
      "display_name": "Python 3"
    },
    "language_info": {
      "name": "python"
    }
  },
  "cells": [
    {
      "cell_type": "markdown",
      "metadata": {
        "id": "view-in-github",
        "colab_type": "text"
      },
      "source": [
        "<a href=\"https://colab.research.google.com/github/lanceinb/bigdata/blob/master/METRICS.ipynb\" target=\"_parent\"><img src=\"https://colab.research.google.com/assets/colab-badge.svg\" alt=\"Open In Colab\"/></a>"
      ]
    },
    {
      "cell_type": "markdown",
      "source": [
        "# **Precesion**"
      ],
      "metadata": {
        "id": "anhLKradreLZ"
      }
    },
    {
      "cell_type": "code",
      "source": [
        "import pandas as pd\n",
        "\n",
        "# Load your data (replace 'your_data.csv' with your actual file path)\n",
        "df = pd.read_csv('/content/drive/MyDrive/myduckdb/TEST QA.csv')\n",
        "\n",
        "# Calculate the total number of relevant responses\n",
        "total_relevant = df['Relevance_Score'].sum()\n",
        "\n",
        "# Calculate the total number of responses\n",
        "total_responses = len(df)\n",
        "\n",
        "# Calculate precision\n",
        "precision = total_relevant / total_responses\n",
        "\n",
        "print(f'Precision: {precision:.2f}')\n"
      ],
      "metadata": {
        "id": "-Jf4uHJsndQd"
      },
      "execution_count": null,
      "outputs": []
    },
    {
      "cell_type": "markdown",
      "source": [
        "# **Recall**"
      ],
      "metadata": {
        "id": "FovIGpfero2C"
      }
    },
    {
      "cell_type": "code",
      "source": [
        "import pandas as pd\n",
        "\n",
        "# Load your data (replace 'your_data.csv' with your actual file path)\n",
        "df = pd.read_csv('/content/drive/MyDrive/myduckdb/TEST QA.csv')\n",
        "\n",
        "# Calculate the total number of relevant responses\n",
        "total_relevant = df['Relevance_Score'].sum()\n",
        "\n",
        "# Calculate the total number of responses\n",
        "Relevant_ScoreGT = df['Relevant_ScoreGT'].sum()\n",
        "\n",
        "# Calculate recall\n",
        "recall = total_relevant / Relevant_ScoreGT\n",
        "\n",
        "print(f'Recall: {recall:.2f}')\n"
      ],
      "metadata": {
        "id": "tq4Sqkkdrrq5"
      },
      "execution_count": null,
      "outputs": []
    },
    {
      "cell_type": "markdown",
      "source": [
        "# F1 **Score**"
      ],
      "metadata": {
        "id": "dMuUd9ep5u5R"
      }
    },
    {
      "cell_type": "code",
      "source": [
        "import pandas as pd\n",
        "\n",
        "# Calculate F1 Score\n",
        "F1_score = 2 * ((precision*recall) /(precision+recall))\n",
        "\n",
        "print(f'F1_score: {recall:.2f}')\n"
      ],
      "metadata": {
        "id": "brpgFv_85xpr"
      },
      "execution_count": null,
      "outputs": []
    }
  ]
}